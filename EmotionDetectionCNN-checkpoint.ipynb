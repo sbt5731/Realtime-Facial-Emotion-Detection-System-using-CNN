{
 "cells": [
  {
   "cell_type": "code",
   "execution_count": 1,
   "id": "108efbf8",
   "metadata": {},
   "outputs": [],
   "source": [
    "from keras.preprocessing.image import ImageDataGenerator\n",
    "from keras.models import Sequential\n",
    "from keras.layers import Dense,Dropout,Flatten\n",
    "from keras.layers import Conv2D,MaxPooling2D"
   ]
  },
  {
   "cell_type": "code",
   "execution_count": 2,
   "id": "0b9b435d",
   "metadata": {},
   "outputs": [],
   "source": [
    "import os\n",
    "from matplotlib import pyplot as \n",
    "\n",
    "import numpy as np"
   ]
  },
  {
   "cell_type": "code",
   "execution_count": 3,
   "id": "d16f0e7c",
   "metadata": {},
   "outputs": [],
   "source": [
    "img_height = 48\n",
    "img_width = 48\n",
    "batch_size = 32"
   ]
  },
  {
   "cell_type": "code",
   "execution_count": 4,
   "id": "bbfecd02",
   "metadata": {},
   "outputs": [],
   "source": [
    "train_data_dir = r'C:\\Users\\Saurabh Tiwari\\Desktop\\Machine Learning\\archive (1)\\images\\train'"
   ]
  },
  {
   "cell_type": "code",
   "execution_count": 5,
   "id": "9a4be761",
   "metadata": {},
   "outputs": [],
   "source": [
    "validation_data_dir = r'C:\\Users\\Saurabh Tiwari\\Desktop\\Machine Learning\\archive (1)\\images\\test'"
   ]
  },
  {
   "cell_type": "code",
   "execution_count": 6,
   "id": "cbaac3b9",
   "metadata": {},
   "outputs": [
    {
     "name": "stdout",
     "output_type": "stream",
     "text": [
      "Found 28821 images belonging to 7 classes.\n",
      "Found 7066 images belonging to 7 classes.\n"
     ]
    }
   ],
   "source": [
    "train_datagen = ImageDataGenerator(rescale=1./255,\n",
    "                                  rotation_range=30,\n",
    "                                  shear_range=0.3,\n",
    "                                  zoom_range=0.3,\n",
    "                                  horizontal_flip=True,\n",
    "                                  fill_mode='nearest')\n",
    "validation_datagen = ImageDataGenerator(rescale=1./255)\n",
    "\n",
    "train_generator = train_datagen.flow_from_directory(train_data_dir,\n",
    "                                                   color_mode='grayscale',\n",
    "                                                   target_size  =(img_height,img_width),\n",
    "                                                   batch_size=batch_size,\n",
    "                                                   class_mode='categorical',\n",
    "                                                   shuffle = True)\n",
    "validation_generator = validation_datagen.flow_from_directory(validation_data_dir,\n",
    "                                                             color_mode='grayscale',\n",
    "                                                             target_size = (img_height,img_width),\n",
    "                                                             batch_size=batch_size,\n",
    "                                                             class_mode='categorical',\n",
    "                                                             shuffle=True)"
   ]
  },
  {
   "cell_type": "markdown",
   "id": "420f9cce",
   "metadata": {},
   "source": [
    "## Verify our generator by plotting a few faces and printing corresponding labels"
   ]
  },
  {
   "cell_type": "code",
   "execution_count": 7,
   "id": "07729eac",
   "metadata": {},
   "outputs": [],
   "source": [
    "class_labels = ['Angry','Disgust','Fear','Neutral','Sad','Surprise']\n"
   ]
  },
  {
   "cell_type": "code",
   "execution_count": 8,
   "id": "f476843c",
   "metadata": {},
   "outputs": [
    {
     "data": {
      "image/png": "[encoded data removed]",
      "text/plain": [
       "<Figure size 432x288 with 1 Axes>"
      ]
     },
     "metadata": {
      "needs_background": "light"
     },
     "output_type": "display_data"
    }
   ],
   "source": [
    "img,label = train_generator.__next__()\n",
    "import random\n",
    "i = random.randint(0,(img.shape[0])-1)\n",
    "image = img[i]\n",
    "labl= class_labels[label[i].argmax()]\n",
    "plt.imshow(image[:,:,0] , cmap = 'gray')\n",
    "plt.title(labl)\n",
    "plt.show()"
   ]
  },
  {
   "cell_type": "markdown",
   "id": "98ab61ea",
   "metadata": {},
   "source": [
    "## Create the model"
   ]
  },
  {
   "cell_type": "code",
   "execution_count": 9,
   "id": "e758cd5b",
   "metadata": {},
   "outputs": [
    {
     "name": "stdout",
     "output_type": "stream",
     "text": [
      "Model: \"sequential\"\n",
      "_________________________________________________________________\n",
      "Layer (type)                 Output Shape              Param #   \n",
      "=================================================================\n",
      "conv2d (Conv2D)              (None, 46, 46, 32)        320       \n",
      "_________________________________________________________________\n",
      "conv2d_1 (Conv2D)            (None, 44, 44, 64)        18496     \n",
      "_________________________________________________________________\n",
      "max_pooling2d (MaxPooling2D) (None, 22, 22, 64)        0         \n",
      "_________________________________________________________________\n",
      "dropout (Dropout)            (None, 22, 22, 64)        0         \n",
      "_________________________________________________________________\n",
      "conv2d_2 (Conv2D)            (None, 20, 20, 128)       73856     \n",
      "_________________________________________________________________\n",
      "max_pooling2d_1 (MaxPooling2 (None, 10, 10, 128)       0         \n",
      "_________________________________________________________________\n",
      "dropout_1 (Dropout)          (None, 10, 10, 128)       0         \n",
      "_________________________________________________________________\n",
      "conv2d_3 (Conv2D)            (None, 8, 8, 256)         295168    \n",
      "_________________________________________________________________\n",
      "max_pooling2d_2 (MaxPooling2 (None, 4, 4, 256)         0         \n",
      "_________________________________________________________________\n",
      "dropout_2 (Dropout)          (None, 4, 4, 256)         0         \n",
      "_________________________________________________________________\n",
      "flatten (Flatten)            (None, 4096)              0         \n",
      "_________________________________________________________________\n",
      "dense (Dense)                (None, 512)               2097664   \n",
      "_________________________________________________________________\n",
      "dropout_3 (Dropout)          (None, 512)               0         \n",
      "_________________________________________________________________\n",
      "dense_1 (Dense)              (None, 7)                 3591      \n",
      "=================================================================\n",
      "Total params: 2,489,095\n",
      "Trainable params: 2,489,095\n",
      "Non-trainable params: 0\n",
      "_________________________________________________________________\n",
      "None\n"
     ]
    }
   ],
   "source": [
    "model = Sequential()\n",
    "\n",
    "model.add(Conv2D(32,kernel_size=(3,3),activation = 'relu', input_shape=(48,48,1)))\n",
    "\n",
    "model.add(Conv2D(64,kernel_size = (3,3),activation = 'relu'))\n",
    "model.add(MaxPooling2D(pool_size = (2,2)))\n",
    "model.add(Dropout(0.1))\n",
    "\n",
    "model.add(Conv2D(128,kernel_size = (3,3),activation = 'relu'))\n",
    "model.add(MaxPooling2D(pool_size = (2,2)))\n",
    "model.add(Dropout(0.1))\n",
    "\n",
    "model.add(Conv2D(256,kernel_size = (3,3),activation = 'relu'))\n",
    "model.add(MaxPooling2D(pool_size = (2,2)))\n",
    "model.add(Dropout(0.2))\n",
    "\n",
    "model.add(Flatten())\n",
    "model.add(Dense(512,activation = 'relu'))\n",
    "model.add(Dropout(0.2))\n",
    "\n",
    "model.add(Dense(7,activation = 'softmax'))\n",
    "\n",
    "model.compile(optimizer='adam',loss='categorical_crossentropy', metrics = ['accuracy'])\n",
    "print(model.summary())"
   ]
  },
  {
   "cell_type": "code",
   "execution_count": 10,
   "id": "b626b913",
   "metadata": {},
   "outputs": [],
   "source": [
    "train_path = \"train/\"\n",
    "test_path = \"test/\""
   ]
  },
  {
   "cell_type": "code",
   "execution_count": 11,
   "id": "8c1a4572",
   "metadata": {},
   "outputs": [],
   "source": [
    "num_train_imgs = 0\n",
    "for root, dirs, files in os.walk(train_path):\n",
    "    num_train_imgs += len(files)\n",
    "    \n",
    "num_test_imgs = 0\n",
    "for root, dirs, files in os.walk(test_path):\n",
    "    num_test_imgs += len(files)\n",
    "    \n",
    "epochs = 100"
   ]
  },
  {
   "cell_type": "code",
   "execution_count": 12,
   "id": "b77478b8",
   "metadata": {},
   "outputs": [
    {
     "name": "stdout",
     "output_type": "stream",
     "text": [
      "Epoch 1/100\n",
      "900/900 [==============================] - 347s 385ms/step - loss: 1.7656 - accuracy: 0.2722 - val_loss: 1.6433 - val_accuracy: 0.3477\n",
      "Epoch 2/100\n",
      "900/900 [==============================] - 244s 271ms/step - loss: 1.6378 - accuracy: 0.3508 - val_loss: 1.4684 - val_accuracy: 0.4227\n",
      "Epoch 3/100\n",
      "900/900 [==============================] - 249s 276ms/step - loss: 1.5266 - accuracy: 0.4041 - val_loss: 1.3644 - val_accuracy: 0.4724\n",
      "Epoch 4/100\n",
      "900/900 [==============================] - 253s 281ms/step - loss: 1.4389 - accuracy: 0.4428 - val_loss: 1.2634 - val_accuracy: 0.5178\n",
      "Epoch 5/100\n",
      "900/900 [==============================] - 256s 285ms/step - loss: 1.3874 - accuracy: 0.4678 - val_loss: 1.2343 - val_accuracy: 0.5280\n",
      "Epoch 6/100\n",
      "900/900 [==============================] - 249s 276ms/step - loss: 1.3528 - accuracy: 0.4829 - val_loss: 1.1960 - val_accuracy: 0.5455\n",
      "Epoch 7/100\n",
      "900/900 [==============================] - 260s 289ms/step - loss: 1.3234 - accuracy: 0.4955 - val_loss: 1.2001 - val_accuracy: 0.5445\n",
      "Epoch 8/100\n",
      "900/900 [==============================] - 246s 273ms/step - loss: 1.2982 - accuracy: 0.5023 - val_loss: 1.1412 - val_accuracy: 0.5652\n",
      "Epoch 9/100\n",
      "900/900 [==============================] - 238s 264ms/step - loss: 1.2820 - accuracy: 0.5118 - val_loss: 1.1396 - val_accuracy: 0.5669\n",
      "Epoch 10/100\n",
      "900/900 [==============================] - 253s 282ms/step - loss: 1.2697 - accuracy: 0.5155 - val_loss: 1.1591 - val_accuracy: 0.5587\n",
      "Epoch 11/100\n",
      "900/900 [==============================] - 252s 280ms/step - loss: 1.2575 - accuracy: 0.5215 - val_loss: 1.1249 - val_accuracy: 0.5766\n",
      "Epoch 12/100\n",
      "900/900 [==============================] - 269s 299ms/step - loss: 1.2400 - accuracy: 0.5283 - val_loss: 1.1035 - val_accuracy: 0.5817\n",
      "Epoch 13/100\n",
      "900/900 [==============================] - 330s 367ms/step - loss: 1.2354 - accuracy: 0.5282 - val_loss: 1.1026 - val_accuracy: 0.5872\n",
      "Epoch 14/100\n",
      "900/900 [==============================] - 310s 344ms/step - loss: 1.2263 - accuracy: 0.5353 - val_loss: 1.1024 - val_accuracy: 0.5783\n",
      "Epoch 15/100\n",
      "900/900 [==============================] - 316s 351ms/step - loss: 1.2124 - accuracy: 0.5399 - val_loss: 1.0824 - val_accuracy: 0.5895\n",
      "Epoch 16/100\n",
      "900/900 [==============================] - 325s 361ms/step - loss: 1.2085 - accuracy: 0.5389 - val_loss: 1.0865 - val_accuracy: 0.5868\n",
      "Epoch 17/100\n",
      "900/900 [==============================] - 321s 356ms/step - loss: 1.1976 - accuracy: 0.5425 - val_loss: 1.0748 - val_accuracy: 0.5993\n",
      "Epoch 18/100\n",
      "900/900 [==============================] - 319s 354ms/step - loss: 1.1954 - accuracy: 0.5466 - val_loss: 1.0846 - val_accuracy: 0.5899\n",
      "Epoch 19/100\n",
      "900/900 [==============================] - 311s 346ms/step - loss: 1.1905 - accuracy: 0.5450 - val_loss: 1.0987 - val_accuracy: 0.5865\n",
      "Epoch 20/100\n",
      "900/900 [==============================] - 308s 342ms/step - loss: 1.1858 - accuracy: 0.5497 - val_loss: 1.0850 - val_accuracy: 0.5916\n",
      "Epoch 21/100\n",
      "900/900 [==============================] - 309s 343ms/step - loss: 1.1859 - accuracy: 0.5482 - val_loss: 1.0646 - val_accuracy: 0.5994\n",
      "Epoch 22/100\n",
      "900/900 [==============================] - 314s 349ms/step - loss: 1.1720 - accuracy: 0.5537 - val_loss: 1.0593 - val_accuracy: 0.6017\n",
      "Epoch 23/100\n",
      "900/900 [==============================] - 255s 284ms/step - loss: 1.1718 - accuracy: 0.5529 - val_loss: 1.0699 - val_accuracy: 0.6013\n",
      "Epoch 24/100\n",
      "900/900 [==============================] - 231s 257ms/step - loss: 1.1686 - accuracy: 0.5591 - val_loss: 1.0615 - val_accuracy: 0.5991\n",
      "Epoch 25/100\n",
      "900/900 [==============================] - 227s 252ms/step - loss: 1.1597 - accuracy: 0.5648 - val_loss: 1.0672 - val_accuracy: 0.6024\n",
      "Epoch 26/100\n",
      "900/900 [==============================] - 223s 248ms/step - loss: 1.1584 - accuracy: 0.5610 - val_loss: 1.0964 - val_accuracy: 0.5911\n",
      "Epoch 27/100\n",
      "900/900 [==============================] - 224s 248ms/step - loss: 1.1482 - accuracy: 0.5636 - val_loss: 1.0625 - val_accuracy: 0.6004\n",
      "Epoch 28/100\n",
      "900/900 [==============================] - 226s 251ms/step - loss: 1.1474 - accuracy: 0.5625 - val_loss: 1.0798 - val_accuracy: 0.6033\n",
      "Epoch 29/100\n",
      "900/900 [==============================] - 227s 252ms/step - loss: 1.1451 - accuracy: 0.5675 - val_loss: 1.0487 - val_accuracy: 0.6068\n",
      "Epoch 30/100\n",
      "900/900 [==============================] - 226s 251ms/step - loss: 1.1421 - accuracy: 0.5639 - val_loss: 1.0526 - val_accuracy: 0.6082\n",
      "Epoch 31/100\n",
      "900/900 [==============================] - 227s 253ms/step - loss: 1.1341 - accuracy: 0.5696 - val_loss: 1.0532 - val_accuracy: 0.6122\n",
      "Epoch 32/100\n",
      "900/900 [==============================] - 227s 252ms/step - loss: 1.1335 - accuracy: 0.5730 - val_loss: 1.0723 - val_accuracy: 0.5972\n",
      "Epoch 33/100\n",
      "900/900 [==============================] - 226s 251ms/step - loss: 1.1348 - accuracy: 0.5691 - val_loss: 1.0585 - val_accuracy: 0.6023\n",
      "Epoch 34/100\n",
      "900/900 [==============================] - 226s 252ms/step - loss: 1.1273 - accuracy: 0.5707 - val_loss: 1.0691 - val_accuracy: 0.5969\n",
      "Epoch 35/100\n",
      "900/900 [==============================] - 226s 251ms/step - loss: 1.1289 - accuracy: 0.5703 - val_loss: 1.0304 - val_accuracy: 0.6163\n",
      "Epoch 36/100\n",
      "900/900 [==============================] - 225s 250ms/step - loss: 1.1209 - accuracy: 0.5730 - val_loss: 1.0398 - val_accuracy: 0.6118\n",
      "Epoch 37/100\n",
      "900/900 [==============================] - 227s 252ms/step - loss: 1.1196 - accuracy: 0.5736 - val_loss: 1.0486 - val_accuracy: 0.6048\n",
      "Epoch 38/100\n",
      "900/900 [==============================] - 226s 251ms/step - loss: 1.1114 - accuracy: 0.5808 - val_loss: 1.0452 - val_accuracy: 0.6146\n",
      "Epoch 39/100\n",
      "900/900 [==============================] - 225s 250ms/step - loss: 1.1146 - accuracy: 0.5793 - val_loss: 1.0526 - val_accuracy: 0.6112\n",
      "Epoch 40/100\n",
      "900/900 [==============================] - 226s 251ms/step - loss: 1.1194 - accuracy: 0.5735 - val_loss: 1.0477 - val_accuracy: 0.6084\n",
      "Epoch 41/100\n",
      "900/900 [==============================] - 229s 255ms/step - loss: 1.1150 - accuracy: 0.5755 - val_loss: 1.0437 - val_accuracy: 0.6136\n",
      "Epoch 42/100\n",
      "900/900 [==============================] - 226s 251ms/step - loss: 1.1058 - accuracy: 0.5790 - val_loss: 1.0366 - val_accuracy: 0.6166\n",
      "Epoch 43/100\n",
      "900/900 [==============================] - 227s 252ms/step - loss: 1.1069 - accuracy: 0.5800 - val_loss: 1.0530 - val_accuracy: 0.6058\n",
      "Epoch 44/100\n",
      "900/900 [==============================] - 227s 252ms/step - loss: 1.1065 - accuracy: 0.5800 - val_loss: 1.0402 - val_accuracy: 0.6178\n",
      "Epoch 45/100\n",
      "900/900 [==============================] - 227s 252ms/step - loss: 1.1019 - accuracy: 0.5839 - val_loss: 1.0290 - val_accuracy: 0.6173\n",
      "Epoch 46/100\n",
      "900/900 [==============================] - 226s 251ms/step - loss: 1.1055 - accuracy: 0.5807 - val_loss: 1.0267 - val_accuracy: 0.6207\n",
      "Epoch 47/100\n",
      "900/900 [==============================] - 226s 251ms/step - loss: 1.0938 - accuracy: 0.5851 - val_loss: 1.0557 - val_accuracy: 0.6037\n",
      "Epoch 48/100\n",
      "900/900 [==============================] - 225s 250ms/step - loss: 1.0961 - accuracy: 0.5863 - val_loss: 1.0476 - val_accuracy: 0.6061\n",
      "Epoch 49/100\n",
      "900/900 [==============================] - 225s 250ms/step - loss: 1.0927 - accuracy: 0.5823 - val_loss: 1.0277 - val_accuracy: 0.6223\n",
      "Epoch 50/100\n",
      "900/900 [==============================] - 226s 251ms/step - loss: 1.0904 - accuracy: 0.5869 - val_loss: 1.0380 - val_accuracy: 0.6129\n",
      "Epoch 51/100\n",
      "900/900 [==============================] - 235s 261ms/step - loss: 1.0869 - accuracy: 0.5878 - val_loss: 1.0385 - val_accuracy: 0.6168\n",
      "Epoch 52/100\n",
      "900/900 [==============================] - 230s 255ms/step - loss: 1.0882 - accuracy: 0.5893 - val_loss: 1.0243 - val_accuracy: 0.6216\n",
      "Epoch 53/100\n",
      "900/900 [==============================] - 287s 319ms/step - loss: 1.0851 - accuracy: 0.5908 - val_loss: 1.0180 - val_accuracy: 0.6212\n",
      "Epoch 54/100\n",
      "900/900 [==============================] - 334s 372ms/step - loss: 1.0829 - accuracy: 0.5901 - val_loss: 1.0295 - val_accuracy: 0.6200\n",
      "Epoch 55/100\n",
      "900/900 [==============================] - 334s 371ms/step - loss: 1.0800 - accuracy: 0.5931 - val_loss: 1.0281 - val_accuracy: 0.6185\n",
      "Epoch 56/100\n",
      "900/900 [==============================] - 336s 374ms/step - loss: 1.0844 - accuracy: 0.5893 - val_loss: 1.0220 - val_accuracy: 0.6153\n",
      "Epoch 57/100\n",
      "900/900 [==============================] - 336s 373ms/step - loss: 1.0796 - accuracy: 0.5925 - val_loss: 1.0132 - val_accuracy: 0.6243\n",
      "Epoch 58/100\n",
      "900/900 [==============================] - 337s 374ms/step - loss: 1.0778 - accuracy: 0.5934 - val_loss: 1.0287 - val_accuracy: 0.6156\n",
      "Epoch 59/100\n",
      "900/900 [==============================] - 337s 374ms/step - loss: 1.0798 - accuracy: 0.5897 - val_loss: 1.0187 - val_accuracy: 0.6199\n",
      "Epoch 60/100\n",
      "900/900 [==============================] - 337s 375ms/step - loss: 1.0706 - accuracy: 0.5921 - val_loss: 1.0126 - val_accuracy: 0.6236\n",
      "Epoch 61/100\n",
      "900/900 [==============================] - 336s 374ms/step - loss: 1.0767 - accuracy: 0.5902 - val_loss: 1.0146 - val_accuracy: 0.6226\n",
      "Epoch 62/100\n",
      "900/900 [==============================] - 336s 373ms/step - loss: 1.0801 - accuracy: 0.5918 - val_loss: 1.0179 - val_accuracy: 0.6226\n",
      "Epoch 63/100\n",
      "900/900 [==============================] - 337s 375ms/step - loss: 1.0736 - accuracy: 0.5960 - val_loss: 1.0305 - val_accuracy: 0.6219\n",
      "Epoch 64/100\n",
      "900/900 [==============================] - 337s 374ms/step - loss: 1.0748 - accuracy: 0.5908 - val_loss: 1.0189 - val_accuracy: 0.6229\n",
      "Epoch 65/100\n",
      "900/900 [==============================] - 336s 373ms/step - loss: 1.0754 - accuracy: 0.5930 - val_loss: 1.0223 - val_accuracy: 0.6192\n",
      "Epoch 66/100\n",
      "900/900 [==============================] - 336s 373ms/step - loss: 1.0627 - accuracy: 0.5976 - val_loss: 1.0297 - val_accuracy: 0.6250\n",
      "Epoch 67/100\n",
      "900/900 [==============================] - 336s 373ms/step - loss: 1.0631 - accuracy: 0.5954 - val_loss: 1.0231 - val_accuracy: 0.6186\n",
      "Epoch 68/100\n",
      "900/900 [==============================] - 336s 373ms/step - loss: 1.0667 - accuracy: 0.5956 - val_loss: 1.0180 - val_accuracy: 0.6254\n",
      "Epoch 69/100\n",
      "900/900 [==============================] - 244s 271ms/step - loss: 1.0614 - accuracy: 0.6004 - val_loss: 1.0095 - val_accuracy: 0.6303\n",
      "Epoch 70/100\n",
      "900/900 [==============================] - 231s 257ms/step - loss: 1.0763 - accuracy: 0.5920 - val_loss: 1.0252 - val_accuracy: 0.6206\n",
      "Epoch 71/100\n",
      "900/900 [==============================] - 235s 261ms/step - loss: 1.0618 - accuracy: 0.5993 - val_loss: 1.0139 - val_accuracy: 0.6226\n",
      "Epoch 72/100\n",
      "900/900 [==============================] - 242s 269ms/step - loss: 1.0612 - accuracy: 0.5983 - val_loss: 1.0286 - val_accuracy: 0.6189\n",
      "Epoch 73/100\n",
      "900/900 [==============================] - 246s 273ms/step - loss: 1.0589 - accuracy: 0.5993 - val_loss: 1.0075 - val_accuracy: 0.6308\n",
      "Epoch 74/100\n",
      "900/900 [==============================] - 244s 271ms/step - loss: 1.0597 - accuracy: 0.5981 - val_loss: 1.0117 - val_accuracy: 0.6254\n",
      "Epoch 75/100\n",
      "900/900 [==============================] - 250s 278ms/step - loss: 1.0588 - accuracy: 0.6005 - val_loss: 1.0477 - val_accuracy: 0.6230\n",
      "Epoch 76/100\n",
      "900/900 [==============================] - 247s 275ms/step - loss: 1.0574 - accuracy: 0.5999 - val_loss: 1.0073 - val_accuracy: 0.6314\n",
      "Epoch 77/100\n",
      "900/900 [==============================] - 247s 275ms/step - loss: 1.0556 - accuracy: 0.6014 - val_loss: 1.0074 - val_accuracy: 0.6305\n",
      "Epoch 78/100\n",
      "900/900 [==============================] - 254s 283ms/step - loss: 1.0576 - accuracy: 0.6010 - val_loss: 1.0430 - val_accuracy: 0.6128\n",
      "Epoch 79/100\n",
      "900/900 [==============================] - 258s 287ms/step - loss: 1.0483 - accuracy: 0.6005 - val_loss: 1.0559 - val_accuracy: 0.6082\n",
      "Epoch 80/100\n",
      "900/900 [==============================] - 252s 281ms/step - loss: 1.0565 - accuracy: 0.6016 - val_loss: 1.0034 - val_accuracy: 0.6298\n",
      "Epoch 81/100\n",
      "900/900 [==============================] - 250s 278ms/step - loss: 1.0554 - accuracy: 0.6003 - val_loss: 1.0322 - val_accuracy: 0.6239\n",
      "Epoch 82/100\n",
      "900/900 [==============================] - 248s 275ms/step - loss: 1.0486 - accuracy: 0.6036 - val_loss: 1.0172 - val_accuracy: 0.6236\n",
      "Epoch 83/100\n",
      "900/900 [==============================] - 251s 279ms/step - loss: 1.0496 - accuracy: 0.6029 - val_loss: 1.0223 - val_accuracy: 0.6207\n",
      "Epoch 84/100\n",
      "900/900 [==============================] - 248s 275ms/step - loss: 1.0525 - accuracy: 0.6024 - val_loss: 0.9983 - val_accuracy: 0.6310\n",
      "Epoch 85/100\n",
      "900/900 [==============================] - 231s 257ms/step - loss: 1.0472 - accuracy: 0.6057 - val_loss: 1.0203 - val_accuracy: 0.6234\n",
      "Epoch 86/100\n",
      "900/900 [==============================] - 230s 255ms/step - loss: 1.0494 - accuracy: 0.6039 - val_loss: 1.0011 - val_accuracy: 0.6300\n",
      "Epoch 87/100\n",
      "900/900 [==============================] - 230s 255ms/step - loss: 1.0483 - accuracy: 0.6058 - val_loss: 0.9992 - val_accuracy: 0.6317\n",
      "Epoch 88/100\n",
      "900/900 [==============================] - 229s 255ms/step - loss: 1.0432 - accuracy: 0.6021 - val_loss: 1.0002 - val_accuracy: 0.6261\n",
      "Epoch 89/100\n",
      "900/900 [==============================] - 229s 255ms/step - loss: 1.0510 - accuracy: 0.6026 - val_loss: 1.0169 - val_accuracy: 0.6268\n",
      "Epoch 90/100\n",
      "900/900 [==============================] - 230s 256ms/step - loss: 1.0404 - accuracy: 0.6080 - val_loss: 1.0168 - val_accuracy: 0.6230\n",
      "Epoch 91/100\n",
      "900/900 [==============================] - 230s 256ms/step - loss: 1.0344 - accuracy: 0.6072 - val_loss: 1.0181 - val_accuracy: 0.6236\n",
      "Epoch 92/100\n",
      "900/900 [==============================] - 230s 255ms/step - loss: 1.0365 - accuracy: 0.6077 - val_loss: 1.0074 - val_accuracy: 0.6213\n",
      "Epoch 93/100\n",
      "900/900 [==============================] - 229s 254ms/step - loss: 1.0415 - accuracy: 0.6073 - val_loss: 1.0087 - val_accuracy: 0.6311\n",
      "Epoch 94/100\n",
      "900/900 [==============================] - 230s 255ms/step - loss: 1.0444 - accuracy: 0.6044 - val_loss: 1.0033 - val_accuracy: 0.6298\n",
      "Epoch 95/100\n",
      "900/900 [==============================] - 232s 258ms/step - loss: 1.0345 - accuracy: 0.6084 - val_loss: 1.0191 - val_accuracy: 0.6247\n",
      "Epoch 96/100\n",
      "900/900 [==============================] - 229s 255ms/step - loss: 1.0378 - accuracy: 0.6090 - val_loss: 1.0251 - val_accuracy: 0.6224\n",
      "Epoch 97/100\n",
      "900/900 [==============================] - 228s 254ms/step - loss: 1.0416 - accuracy: 0.6083 - val_loss: 1.0122 - val_accuracy: 0.6246\n",
      "Epoch 98/100\n",
      "900/900 [==============================] - 229s 254ms/step - loss: 1.0339 - accuracy: 0.6094 - val_loss: 1.0208 - val_accuracy: 0.6230\n",
      "Epoch 99/100\n",
      "900/900 [==============================] - 229s 254ms/step - loss: 1.0319 - accuracy: 0.6133 - val_loss: 0.9951 - val_accuracy: 0.6347\n",
      "Epoch 100/100\n",
      "900/900 [==============================] - 230s 256ms/step - loss: 1.0333 - accuracy: 0.6123 - val_loss: 1.0131 - val_accuracy: 0.6223\n"
     ]
    }
   ],
   "source": [
    "history = model.fit(train_generator,\n",
    "                   steps_per_epoch=num_train_imgs//batch_size,\n",
    "                   epochs = epochs,\n",
    "                   validation_data = validation_generator,\n",
    "                   validation_steps=num_test_imgs//batch_size)"
   ]
  },
  {
   "cell_type": "code",
   "execution_count": 13,
   "id": "93ab47c8",
   "metadata": {},
   "outputs": [],
   "source": [
    "model.save('emotion_detection_model_100epochs.h5')"
   ]
  },
  {
   "cell_type": "code",
   "execution_count": 14,
   "id": "08010860",
   "metadata": {},
   "outputs": [],
   "source": [
    "## plot the training and validation accuracy and loss at each epoch"
   ]
  },
  {
   "cell_type": "code",
   "execution_count": 15,
   "id": "ec97f575",
   "metadata": {},
   "outputs": [
    {
     "data": {
      "image/png": "[encoded data removed]",
      "text/plain": [
       "<Figure size 432x288 with 1 Axes>"
      ]
     },
     "metadata": {
      "needs_background": "light"
     },
     "output_type": "display_data"
    }
   ],
   "source": [
    "loss  = history.history['loss']\n",
    "val_loss = history.history['val_loss']\n",
    "epochs = range(1, len(loss) + 1)\n",
    "plt.plot(epochs, loss, 'y', label = 'Training_loss')\n",
    "plt.plot(epochs,val_loss,'r',label = 'Validation_loss')\n",
    "plt.title('Training and validation loss')\n",
    "plt.xlabel('Epochs')\n",
    "plt.ylabel('Loss')\n",
    "plt.legend()\n",
    "plt.show()"
   ]
  },
  {
   "cell_type": "code",
   "execution_count": 16,
   "id": "e1d187d1",
   "metadata": {},
   "outputs": [],
   "source": [
    "acc = history.history['accuracy']"
   ]
  },
  {
   "cell_type": "code",
   "execution_count": 17,
   "id": "bc75e5e9",
   "metadata": {},
   "outputs": [],
   "source": [
    "val_acc = history.history['val_accuracy']"
   ]
  },
  {
   "cell_type": "code",
   "execution_count": 18,
   "id": "4c875de5",
   "metadata": {},
   "outputs": [
    {
     "data": {
      "image/png": "[encoded data removed]",
      "text/plain": [
       "<Figure size 432x288 with 1 Axes>"
      ]
     },
     "metadata": {
      "needs_background": "light"
     },
     "output_type": "display_data"
    }
   ],
   "source": [
    "plt.plot(epochs,acc,'y',label = 'Training acc')\n",
    "plt.plot(epochs, val_acc,'r',label = 'Validation acc')\n",
    "plt.title('Training and validation accuracy')\n",
    "plt.xlabel('Epochs')\n",
    "plt.ylabel('Accuracy')\n",
    "plt.legend()\n",
    "plt.show()"
   ]
  },
  {
   "cell_type": "code",
   "execution_count": 19,
   "id": "cfe05307",
   "metadata": {},
   "outputs": [],
   "source": [
    "from keras.models import load_model"
   ]
  },
  {
   "cell_type": "code",
   "execution_count": null,
   "id": "106f182b",
   "metadata": {},
   "outputs": [],
   "source": []
  },
  {
   "cell_type": "code",
   "execution_count": 20,
   "id": "b72e1693",
   "metadata": {},
   "outputs": [],
   "source": [
    "## Test the model"
   ]
  },
  {
   "cell_type": "code",
   "execution_count": 21,
   "id": "d54339b6",
   "metadata": {},
   "outputs": [],
   "source": [
    "my_model = load_model('emotion_detection_model_100epochs.h5',compile = False)"
   ]
  },
  {
   "cell_type": "code",
   "execution_count": 22,
   "id": "52e93ac8",
   "metadata": {},
   "outputs": [],
   "source": [
    "## Generate a batch of images"
   ]
  },
  {
   "cell_type": "code",
   "execution_count": 23,
   "id": "f69d6b62",
   "metadata": {},
   "outputs": [],
   "source": [
    "test_img, test_lbl = validation_generator.__next__()\n",
    "predictions = my_model.predict(test_img)\n",
    "\n",
    "predictions = np.argmax(predictions,axis=1)\n",
    "test_labels = np.argmax(test_lbl,axis = 1)"
   ]
  },
  {
   "cell_type": "code",
   "execution_count": 24,
   "id": "648089b0",
   "metadata": {},
   "outputs": [],
   "source": [
    "from sklearn import metrics"
   ]
  },
  {
   "cell_type": "code",
   "execution_count": 25,
   "id": "befb344f",
   "metadata": {},
   "outputs": [
    {
     "name": "stdout",
     "output_type": "stream",
     "text": [
      "Accuracy =  0.75\n"
     ]
    }
   ],
   "source": [
    "print(\"Accuracy = \" , metrics.accuracy_score(test_labels,predictions))"
   ]
  },
  {
   "cell_type": "code",
   "execution_count": 26,
   "id": "362926dd",
   "metadata": {},
   "outputs": [],
   "source": [
    "## Confusion metrics-verify accuracy of each class"
   ]
  },
  {
   "cell_type": "code",
   "execution_count": 27,
   "id": "c25f2ac7",
   "metadata": {},
   "outputs": [
    {
     "name": "stdout",
     "output_type": "stream",
     "text": [
      "[[1 1 0 2 0 0]\n",
      " [0 0 0 0 1 0]\n",
      " [0 0 9 0 0 0]\n",
      " [0 0 2 8 0 0]\n",
      " [0 0 1 1 3 0]\n",
      " [0 0 0 0 0 3]] 0.75\n"
     ]
    }
   ],
   "source": [
    "from sklearn.metrics import confusion_matrix,accuracy_score\n",
    "\n",
    "\n",
    "ac= accuracy_score(test_labels,predictions)\n",
    "cm = confusion_matrix(test_labels,predictions)\n",
    "\n",
    "print(cm,ac)"
   ]
  },
  {
   "cell_type": "code",
   "execution_count": 28,
   "id": "01c243fc",
   "metadata": {},
   "outputs": [
    {
     "data": {
      "text/plain": [
       "<AxesSubplot:>"
      ]
     },
     "execution_count": 28,
     "metadata": {},
     "output_type": "execute_result"
    },
    {
     "data": {
      "image/png": "[encoded data removed]",
      "text/plain": [
       "<Figure size 432x288 with 2 Axes>"
      ]
     },
     "metadata": {
      "needs_background": "light"
     },
     "output_type": "display_data"
    }
   ],
   "source": [
    "import seaborn as sns\n",
    "sns.heatmap(cm,annot = True)"
   ]
  },
  {
   "cell_type": "code",
   "execution_count": 29,
   "id": "139b830d",
   "metadata": {},
   "outputs": [],
   "source": [
    "class_labels = ['Angry','Disgust', 'Fear','Happy', 'Neutral','Sad','Surprise']"
   ]
  },
  {
   "cell_type": "code",
   "execution_count": 30,
   "id": "affb1f0d",
   "metadata": {},
   "outputs": [],
   "source": [
    "## Check results for few selected imgs"
   ]
  },
  {
   "cell_type": "code",
   "execution_count": 31,
   "id": "088f9ae1",
   "metadata": {},
   "outputs": [],
   "source": [
    "n = random.randint(0,test_img.shape[0]-1)"
   ]
  },
  {
   "cell_type": "code",
   "execution_count": 35,
   "id": "4cbee5a4",
   "metadata": {},
   "outputs": [
    {
     "data": {
      "image/png": "[encoded data removed]",
      "text/plain": [
       "<Figure size 432x288 with 1 Axes>"
      ]
     },
     "metadata": {
      "needs_background": "light"
     },
     "output_type": "display_data"
    }
   ],
   "source": [
    "image = test_img[n]\n",
    "orig_labl = class_labels[test_labels[n]]\n",
    "pred_labl = class_labels[predictions[n]]\n",
    "plt.imshow(image[:,:,0],cmap = 'gray')\n",
    "plt.title(\"Original label is: \" + orig_labl+\", Predicted is :\" +pred_labl)\n",
    "plt.show()"
   ]
  },
  {
   "cell_type": "code",
   "execution_count": null,
   "id": "839bb383",
   "metadata": {},
   "outputs": [],
   "source": []
  }
 ],
 "metadata": {
  "kernelspec": {
   "display_name": "Python 3 (ipykernel)",
   "language": "python",
   "name": "python3"
  },
  "language_info": {
   "codemirror_mode": {
    "name": "ipython",
    "version": 3
   },
   "file_extension": ".py",
   "mimetype": "text/x-python",
   "name": "python",
   "nbconvert_exporter": "python",
   "pygments_lexer": "ipython3",
   "version": "3.8.13"
  }
 },
 "nbformat": 4,
 "nbformat_minor": 5
}
